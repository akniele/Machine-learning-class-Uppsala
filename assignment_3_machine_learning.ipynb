{
  "cells": [
    {
      "cell_type": "markdown",
      "source": [
        "#Task \n",
        "In this assignment, some of the results found in the paper *Man is to Computer Programmer as Woman is to Homemaker? Debiasing Word Embeddings*(Bulokbasi, 2016) are reproduced. "
      ],
      "metadata": {
        "id": "XHHfUusqMlcE"
      }
    },
    {
      "cell_type": "markdown",
      "source": [
        "## Loading the data + some imports"
      ],
      "metadata": {
        "id": "Y9n5hsocUEu6"
      }
    },
    {
      "cell_type": "code",
      "execution_count": null,
      "metadata": {
        "colab": {
          "base_uri": "https://localhost:8080/"
        },
        "id": "Fo2kQHnR0mU8",
        "outputId": "b4411ecc-597b-4795-c6c0-5b8dddc53f5a"
      },
      "outputs": [
        {
          "output_type": "stream",
          "name": "stdout",
          "text": [
            "--2022-05-16 19:42:04--  https://dl.fbaipublicfiles.com/fasttext/vectors-crawl/cc.en.300.vec.gz\n",
            "Resolving dl.fbaipublicfiles.com (dl.fbaipublicfiles.com)... 104.22.74.142, 104.22.75.142, 172.67.9.4, ...\n",
            "Connecting to dl.fbaipublicfiles.com (dl.fbaipublicfiles.com)|104.22.74.142|:443... connected.\n",
            "HTTP request sent, awaiting response... 200 OK\n",
            "Length: 1325960915 (1.2G) [binary/octet-stream]\n",
            "Saving to: ‘cc.en.300.vec.gz’\n",
            "\n",
            "cc.en.300.vec.gz    100%[===================>]   1.23G  32.3MB/s    in 39s     \n",
            "\n",
            "2022-05-16 19:42:43 (32.8 MB/s) - ‘cc.en.300.vec.gz’ saved [1325960915/1325960915]\n",
            "\n"
          ]
        }
      ],
      "source": [
        "!wget -N https://dl.fbaipublicfiles.com/fasttext/vectors-crawl/cc.en.300.vec.gz"
      ]
    },
    {
      "cell_type": "code",
      "source": [
        "!gzip -d cc.en.300.vec.gz"
      ],
      "metadata": {
        "id": "pbQ4cta8-74M",
        "colab": {
          "base_uri": "https://localhost:8080/"
        },
        "outputId": "d1997f4a-5b8f-4173-8d7c-f82876910023"
      },
      "execution_count": null,
      "outputs": [
        {
          "output_type": "stream",
          "name": "stdout",
          "text": [
            "gzip: cc.en.300.vec already exists; do you wish to overwrite (y or n)? n\n",
            "\tnot overwritten\n"
          ]
        }
      ]
    },
    {
      "cell_type": "code",
      "execution_count": null,
      "metadata": {
        "id": "H3llUwbv3JS-"
      },
      "outputs": [],
      "source": [
        "import numpy as np\n",
        "from urllib.request import urlopen"
      ]
    },
    {
      "cell_type": "markdown",
      "source": [
        "## The embedding class"
      ],
      "metadata": {
        "id": "mbNFbWBIUKOb"
      }
    },
    {
      "cell_type": "code",
      "execution_count": null,
      "metadata": {
        "id": "g1-78pxMAa_Q",
        "colab": {
          "base_uri": "https://localhost:8080/"
        },
        "outputId": "d971b900-4d0b-47d2-81c3-5c65ea1ae45c"
      },
      "outputs": [
        {
          "output_type": "stream",
          "name": "stderr",
          "text": [
            "100%|██████████| 100000/100000 [00:10<00:00, 9993.77it/s]\n"
          ]
        }
      ],
      "source": [
        "from tqdm import tqdm\n",
        "import os.path\n",
        "from numpy.linalg import norm\n",
        "\n",
        "\n",
        "class Embedding(object):\n",
        "  def __init__(self, filename):\n",
        "    self.filename = filename\n",
        "    self.num_vectors = 100000                                                 # number of tokens in the embedding\n",
        "    assert os.path.exists(self.filename)\n",
        "\n",
        "    self.data = {}                                                              # initialise a dictionary that will store the embedding\n",
        "    with open(filename, 'r', encoding=\"utf-8\") as f:                            # open file\n",
        "      embedding = f.readlines()                                                 # read in the lines\n",
        "    for line in tqdm(embedding[1:self.num_vectors+1]):\n",
        "      split_line = line.split()\n",
        "      self.data[split_line[0]] = np.array([float(x) for x in split_line[1:]])   # add tokens as keys to dictionary, corresponding vectors as values\n",
        "\n",
        "  def __len__(self):\n",
        "    \"\"\"Gives the number of tokens in the embedding.\"\"\"\n",
        "    return len(self.data)                                                 \n",
        "\n",
        "  def __getitem__(self, tokens):\n",
        "    \"\"\"Returns the vectors for a token or a list of tokens.\"\"\"\n",
        "    assert type(tokens) == str or type(tokens) == list\n",
        "    if type(tokens) == str:                                                     # check if tokens is only one token or a list\n",
        "      return self.data[tokens]\n",
        "    vectors = []\n",
        "    for element in tokens:\n",
        "      vectors.append(self.data[element])\n",
        "    vectors = np.array(vectors)\n",
        "    return vectors\n",
        "\n",
        "  def __contains__(self, token):\n",
        "    \"\"\"Allows a user query if a tokens is in the embedding.\"\"\"\n",
        "    return token in self.data\n",
        "\n",
        "  def projection(self, direction, vectors):\n",
        "    \"\"\"The cosine similarity between a reference direction and a matrix of word vectors.\n",
        "    direction: A vector\n",
        "    vectors: A row matrix with word vectors\"\"\"    \n",
        "    if vectors.ndim == 1:                                                       # if matrix one-dimensional, i.e. only one word vector\n",
        "      return self.similarity(direction, vectors)\n",
        "    else:\n",
        "      similarity_array = np.ones(len(vectors))\n",
        "      for i, vector in enumerate(vectors):\n",
        "        similarity_array[i] = self.similarity(direction, vector)                # get the cosine similarity for each direction-vector pair\n",
        "      return similarity_array\n",
        "\n",
        "  \n",
        "  def simple_analogy(self, pair, query, k=5):\n",
        "    \"\"\"Simple/Classic word analogy as: man - woman = king - queen\"\"\"\n",
        "    target = self.data[query] - self.data[pair[0]] + self.data[pair[1]]         # calculate target vector\n",
        "    keys_list = list(self.data.keys())                                          # make list of all tokens\n",
        "    similarity_scores = np.ones(self.num_vectors)                                       # initialise array for similarity scores\n",
        "    for i in range(self.num_vectors):                                           # loop over vectors\n",
        "      similarity_scores[i] = self.similarity(keys_list[i], target)              # calculate cosine similarity between each vector and target\n",
        "                           \n",
        "    similarity_list = [(element, i) for i, element in enumerate(similarity_scores)] # create a list of tuples (element, i) \n",
        "    similarity_sorted = sorted(similarity_list, key=lambda tup: tup[0], reverse=True)[:k] # sort the list and take only the k highest similarity scores\n",
        "    similar_index = [j for (i, j) in similarity_sorted if i != 0 and not np.isnan(i)] # create a list with the indices of the k highest scores\n",
        "\n",
        "    k_most_similar = [keys_list[i] for i in similar_index]\n",
        "\n",
        "    return k_most_similar                                                       # return list of k words with highest similarity score to the target\n",
        "\n",
        "\n",
        "  def similarity(self, token1, token2):\n",
        "    \"\"\"Returns the cosine similarity between two tokens.\"\"\"\n",
        "    if type(token1) == str:                                                     # if token is a string, fetch the vector corresponding to the token\n",
        "      vector1 = self.__getitem__(token1)\n",
        "    else:                                                                       # else: the token is already a vector (len 300)\n",
        "      vector1 = token1\n",
        "    if type(token2) == str:                                                     # same as above but for token2                  \n",
        "      vector2 = self.__getitem__(token2) \n",
        "    else:\n",
        "      vector2 = token2\n",
        "\n",
        "    return np.dot(vector1, vector2)/(norm(vector1)*norm(vector2))               # the dot product of the normalised vectors, i.e. the cosine similarity\n",
        "\n",
        "\n",
        "  def analogies(self, analogy_direction, tokens):\n",
        "    \"\"\"The more complex word analogy method\"\"\"\n",
        "    similarity_list = []                                                        # initialise list for the cosine similarity scores\n",
        "    for i in range(len(tokens)):                                                # loop over the words twice\n",
        "      my_list = []\n",
        "      for j in range(len(tokens)):\n",
        "        if i != j:                                                              # if the two words are not the same\n",
        "          if np.sqrt(sum((self.data[tokens[i]] - self.data[tokens[j]])**2)) <= 1: # if the Euclidean distance between the words is smaller or equal to 1\n",
        "            if self.similarity(analogy_direction, self.data[tokens[i]] - self.data[tokens[j]]) > 0: # if the cosine similarity is greater than 0\n",
        "              my_list.append((self.similarity(analogy_direction, self.data[tokens[i]] - self.data[tokens[j]]), i, j)) # append the cos similarity and the words' indices to my_list\n",
        "      if my_list:                                                               # if my_list not empty\n",
        "        similarity_list.append(my_list)\n",
        "\n",
        "    new_similarity_list = [sorted(sub_list, reverse=True)[0] for sub_list in similarity_list] # new list that takes first element of each sorted inner list, i.e. element with highest cos sim\n",
        "\n",
        "    final_list = [(tokens[element[1]], tokens[element[2]]) for element in new_similarity_list] # new list with elements of highest cosine similarity\n",
        "\n",
        "    return final_list\n",
        "\n",
        "embedding = Embedding(\"cc.en.300.vec\")"
      ]
    },
    {
      "cell_type": "code",
      "execution_count": null,
      "metadata": {
        "id": "sREGXFXQ9rwv"
      },
      "outputs": [],
      "source": [
        "assert 'man' in embedding\n",
        "assert 'woman' in embedding\n",
        "\n",
        "assert 'kdjfsfhgkdsjfdh' not in embedding\n",
        "\n",
        "assert len(embedding) > 10000\n",
        "\n",
        "assert type(embedding['man']) is np.ndarray\n",
        "\n",
        "assert np.isclose(np.sum(embedding['man']-embedding['man']), 0)"
      ]
    },
    {
      "cell_type": "markdown",
      "metadata": {
        "id": "EX_7UbfKeLzH"
      },
      "source": [
        "## Word similarity\n",
        "\n",
        "We should be able to meassure semantic similarity using cosine similarity.\n",
        "\n",
        "$cos(\\overrightarrow{cat}, \\overrightarrow{dog}) \\geq cos(\\overrightarrow{cat}, \\overrightarrow{cow})$"
      ]
    },
    {
      "cell_type": "code",
      "execution_count": null,
      "metadata": {
        "id": "LwrYqvyYMUQq"
      },
      "outputs": [],
      "source": [
        "assert embedding.similarity('cat', 'dog') >= embedding.similarity('cat', 'cow')"
      ]
    },
    {
      "cell_type": "markdown",
      "metadata": {
        "id": "TKsJ7LfELybJ"
      },
      "source": [
        "## Word analogies\n",
        "\n",
        "One of the core tasks for showing any semantic properties in an embedding is finding word analogies (Word a is to word b, as word c is to word d). Our task is to find word d, knowing a, b, and c.\n",
        "\n",
        "$\\overrightarrow{a} - \\overrightarrow{b} \\approx \\overrightarrow{c} - \\overrightarrow{d}$\n",
        "\n",
        "For gender, this becomes:\n",
        "\n",
        "$\\overrightarrow{man} - \\overrightarrow{woman} \\approx \\overrightarrow{king} - \\overrightarrow{x}$\n",
        "\n",
        "By rearranging we get:\n",
        "\n",
        "$\\overrightarrow{king} - \\overrightarrow{man} + \\overrightarrow{woman} \\approx \\overrightarrow{x}$"
      ]
    },
    {
      "cell_type": "code",
      "execution_count": null,
      "metadata": {
        "colab": {
          "base_uri": "https://localhost:8080/"
        },
        "id": "CMtTEzuvHDls",
        "outputId": "02ea7b05-6e71-442a-f8f0-59f396d5bd46"
      },
      "outputs": [
        {
          "output_type": "stream",
          "name": "stdout",
          "text": [
            "Matches (in order of similarity):\n",
            "1 king\n",
            "2 queen\n",
            "3 kings\n",
            "4 Queen\n",
            "5 royal\n"
          ]
        }
      ],
      "source": [
        "best_matches = embedding.simple_analogy(('man', 'woman'), 'king', k=5)\n",
        "print(\"Matches (in order of similarity):\")\n",
        "for i, token in enumerate(best_matches):\n",
        "  print(i+1, token)\n",
        "\n",
        "assert 'queen' in embedding.simple_analogy(('man', 'woman'), 'king', k=5)"
      ]
    },
    {
      "cell_type": "code",
      "execution_count": null,
      "metadata": {
        "colab": {
          "base_uri": "https://localhost:8080/"
        },
        "id": "xL3dPVqKx9wa",
        "outputId": "7575d31d-5071-434a-a32e-3f2a2f1fcfd0"
      },
      "outputs": [
        {
          "output_type": "stream",
          "name": "stdout",
          "text": [
            "Matches (in order of similarity):\n",
            "1 japan\n",
            "2 tokyo\n",
            "3 paris\n",
            "4 japanese\n",
            "5 shanghai\n"
          ]
        }
      ],
      "source": [
        "best_matches = embedding.simple_analogy(('france', 'japan'), 'paris', k=5)\n",
        "print(\"Matches (in order of similarity):\")\n",
        "for i, token in enumerate(best_matches):\n",
        "  print(i+1, token)\n",
        "\n",
        "assert 'tokyo' in embedding.simple_analogy(('france', 'japan'), 'paris', k=5)"
      ]
    },
    {
      "cell_type": "code",
      "source": [
        "best_matches = embedding.simple_analogy(('good', 'bad'), 'awesome', k=5)\n",
        "print(\"Matches (in order of similarity):\")\n",
        "for i, token in enumerate(best_matches):\n",
        "  print(i+1, token)\n",
        "\n",
        "assert 'terrible' in embedding.simple_analogy(('good', 'bad'), 'awesome', k=5)"
      ],
      "metadata": {
        "colab": {
          "base_uri": "https://localhost:8080/"
        },
        "id": "YtKLVMdvjgiz",
        "outputId": "f642bac3-a51b-4a27-d90d-b8a7eb911d23"
      },
      "execution_count": null,
      "outputs": [
        {
          "output_type": "stream",
          "name": "stdout",
          "text": [
            "Matches (in order of similarity):\n",
            "1 bad\n",
            "2 horrible\n",
            "3 terrible\n",
            "4 awful\n",
            "5 sucky\n"
          ]
        }
      ]
    },
    {
      "cell_type": "markdown",
      "metadata": {
        "id": "XgPGM1cvzIIo"
      },
      "source": [
        "## Finding the genderedness of professions\n",
        "\n",
        "Bulokbasi (2016) has a repo for the paper. We can download their data for professions. This allows us to find the genderedness for our embedding and plot against their survey data."
      ]
    },
    {
      "cell_type": "code",
      "execution_count": null,
      "metadata": {
        "colab": {
          "base_uri": "https://localhost:8080/"
        },
        "id": "ABmxQ1Fu56fr",
        "outputId": "86075069-9829-4a51-d40a-fc0453ec327f"
      },
      "outputs": [
        {
          "output_type": "stream",
          "name": "stdout",
          "text": [
            "Loaded 320 professions\n"
          ]
        }
      ],
      "source": [
        "import json\n",
        "with urlopen('https://raw.githubusercontent.com/tolga-b/debiaswe/master/data/professions.json') as remote_file:\n",
        "  professions = {title: {'definitional': defi, 'stereotypical': ster} for title, defi, ster in json.load(remote_file)}\n",
        "print(\"Loaded %i professions\" % len(professions))"
      ]
    },
    {
      "cell_type": "markdown",
      "metadata": {
        "id": "1mbuzbDNpygo"
      },
      "source": [
        "We want to find the projection of vectors for different profession on a gender direction. This can be done by finding the cosine similarity as:\n",
        "\n",
        "$cos(\\overrightarrow{man} - \\overrightarrow{woman}, \\overrightarrow{butcher})$\n",
        "\n",
        "$cos(\\overrightarrow{man} - \\overrightarrow{woman}, \\overrightarrow{ballerina})$\n",
        "\n",
        "The projection should be non-negative as $|cos(\\cdot,\\cdot)|$. However, by letting the projection method of your embedding class give us the cosine similarity, we can see the direction of the projection by looking at its sign."
      ]
    },
    {
      "cell_type": "code",
      "execution_count": null,
      "metadata": {
        "id": "uXVOOb8UEOsG"
      },
      "outputs": [],
      "source": [
        "assert type(embedding[['man', 'woman', 'butcher']]) is np.ndarray\n",
        "assert embedding[['man', 'woman', 'butcher']].shape[0] == 3\n",
        "\n",
        "assert embedding.projection(embedding['man']-embedding['woman'], embedding['butcher']) > 0\n",
        "assert embedding.projection(embedding['man']-embedding['woman'], embedding['ballerina']) < 0"
      ]
    },
    {
      "cell_type": "markdown",
      "metadata": {
        "id": "hvWMsRHWrZ-G"
      },
      "source": [
        "We create a woman-man direction."
      ]
    },
    {
      "cell_type": "code",
      "execution_count": null,
      "metadata": {
        "id": "o7qVcJM5_h7Y"
      },
      "outputs": [],
      "source": [
        "direction = embedding['man']-embedding['woman']\n",
        "titles = [title for title in professions.keys() if title in embedding]\n",
        "projection = embedding.projection(direction, embedding[titles])"
      ]
    },
    {
      "cell_type": "markdown",
      "metadata": {
        "id": "I4ld8hekrdEm"
      },
      "source": [
        "The estimation of the gender direction can be improved by using several pairs. Again, we use the data from Bulokbasi (2016)."
      ]
    },
    {
      "cell_type": "code",
      "execution_count": null,
      "metadata": {
        "colab": {
          "base_uri": "https://localhost:8080/"
        },
        "id": "unzkpmHOs6Wi",
        "outputId": "eb80a9ff-5863-4943-8113-8b69919e35e5"
      },
      "outputs": [
        {
          "output_type": "execute_result",
          "data": {
            "text/plain": [
              "[('woman', 'man'),\n",
              " ('girl', 'boy'),\n",
              " ('she', 'he'),\n",
              " ('mother', 'father'),\n",
              " ('daughter', 'son'),\n",
              " ('gal', 'guy'),\n",
              " ('female', 'male'),\n",
              " ('her', 'his'),\n",
              " ('herself', 'himself'),\n",
              " ('Mary', 'John')]"
            ]
          },
          "metadata": {},
          "execution_count": 14
        }
      ],
      "source": [
        "import json\n",
        "with urlopen('https://raw.githubusercontent.com/tolga-b/debiaswe/master/data/definitional_pairs.json') as remote_file:\n",
        "  definitional_pairs = [(m, f) for m, f in json.load(remote_file)]\n",
        "definitional_pairs"
      ]
    },
    {
      "cell_type": "code",
      "execution_count": null,
      "metadata": {
        "id": "sueBKKyFGduH"
      },
      "outputs": [],
      "source": [
        "direction2 = np.zeros(embedding['man'].shape)\n",
        "for female, male in definitional_pairs:\n",
        "  direction2 += embedding[male.lower()]\n",
        "  direction2 -= embedding[female.lower()]\n",
        "\n",
        "projection2 = embedding.projection(direction2, embedding[titles])"
      ]
    },
    {
      "cell_type": "markdown",
      "metadata": {
        "id": "DrRCBj3dr6m_"
      },
      "source": [
        "We can plot the relation between genderedness in the data and human annotation."
      ]
    },
    {
      "cell_type": "code",
      "execution_count": null,
      "metadata": {
        "colab": {
          "base_uri": "https://localhost:8080/",
          "height": 381
        },
        "id": "qxgJnULiG0_Q",
        "outputId": "74150568-5b0d-41db-d34d-449b9d8af3c7"
      },
      "outputs": [
        {
          "output_type": "display_data",
          "data": {
            "text/plain": [
              "<Figure size 864x360 with 2 Axes>"
            ],
            "image/png": "[encoded data removed]"
          },
          "metadata": {
            "needs_background": "light"
          }
        }
      ],
      "source": [
        "import matplotlib.pyplot as plt\n",
        "import seaborn as sns\n",
        "\n",
        "fig = plt.figure(figsize=(12, 5))\n",
        "ax = fig.subplots(1, 2)\n",
        "stereotypicality = [professions[title]['stereotypical'] for title in titles]\n",
        "sns.regplot(x=projection, y=stereotypicality, ax=ax[0])\n",
        "a = sns.regplot(x=projection2, y=stereotypicality, ax=ax[1])\n",
        "ax[0].set_xlabel(\"Projection (one pair)\")\n",
        "ax[1].set_xlabel(\"Projection (several pairs)\")\n",
        "ax[0].set_ylabel(\"Human labelled stereotypicality\")\n",
        "fig.tight_layout(pad=.5)\n",
        "fig.show()"
      ]
    },
    {
      "cell_type": "code",
      "execution_count": null,
      "metadata": {
        "colab": {
          "base_uri": "https://localhost:8080/",
          "height": 381
        },
        "id": "Rb4MO33THKEN",
        "outputId": "5b4a4eb6-6049-45d1-e5b5-53283a5ca70e"
      },
      "outputs": [
        {
          "output_type": "display_data",
          "data": {
            "text/plain": [
              "<Figure size 864x360 with 2 Axes>"
            ],
            "image/png": "[encoded data removed]"
          },
          "metadata": {
            "needs_background": "light"
          }
        }
      ],
      "source": [
        "fig = plt.figure(figsize=(12, 5))\n",
        "ax = fig.subplots(1, 2)\n",
        "definitionality = [professions[title]['definitional'] for title in titles]\n",
        "sns.regplot(x=projection, y=definitionality, ax=ax[0])\n",
        "a = sns.regplot(x=projection2, y=definitionality, ax=ax[1])\n",
        "ax[0].set_xlabel(\"Projection (one pair)\")\n",
        "ax[1].set_xlabel(\"Projection (several pairs)\")\n",
        "ax[0].set_ylabel(\"Human labelled definitional genderedness\")\n",
        "fig.tight_layout(pad=.5)\n",
        "fig.show()"
      ]
    },
    {
      "cell_type": "markdown",
      "metadata": {
        "id": "cjgbqFix9A6Z"
      },
      "source": [
        "## More analogies\n",
        "\n",
        "The paper defines a more advanced procedure for analogies as:\n",
        "\n",
        "$S_{(a,b)}(x, y) = \\left\\{\\begin{matrix}\n",
        "cos(\\overrightarrow{a}-\\overrightarrow{b}, \\overrightarrow{x}-\\overrightarrow{y}) & \\parallel \\overrightarrow{x}-\\overrightarrow{y} \\parallel \\leq 1\\\\ \n",
        "0 &  \\text{otherwise}\n",
        "\\end{matrix}\\right.$\n",
        "\n",
        "This should return a list of tuples with word pairs."
      ]
    },
    {
      "cell_type": "code",
      "execution_count": null,
      "metadata": {
        "colab": {
          "base_uri": "https://localhost:8080/"
        },
        "id": "HY3EsrrTvxFx",
        "outputId": "548fcb5f-c61c-4038-8f12-5a3278099da1"
      },
      "outputs": [
        {
          "output_type": "execute_result",
          "data": {
            "text/plain": [
              "[('actor', 'actress')]"
            ]
          },
          "metadata": {},
          "execution_count": 18
        }
      ],
      "source": [
        "assert len(embedding.analogies(embedding['man']-embedding['woman'], ['actor', 'actress'])) == 1\n",
        "assert type(embedding.analogies(embedding['man']-embedding['woman'], ['actor', 'actress'])) == list\n",
        "assert type(embedding.analogies(embedding['man']-embedding['woman'], ['actor', 'actress'])[0]) == tuple\n",
        "\n",
        "embedding.analogies(embedding['man']-embedding['woman'], ['actor', 'actress'])"
      ]
    },
    {
      "cell_type": "code",
      "execution_count": null,
      "metadata": {
        "colab": {
          "base_uri": "https://localhost:8080/"
        },
        "id": "VK9et5C29AYD",
        "outputId": "54e498f3-b4c9-459b-9907-6a3ac1d9f6b6"
      },
      "outputs": [
        {
          "output_type": "execute_result",
          "data": {
            "text/plain": [
              "[('accountant', 'businesswoman'),\n",
              " ('acquaintance', 'businesswoman'),\n",
              " ('actor', 'actress'),\n",
              " ('administrator', 'actress'),\n",
              " ('adventurer', 'businesswoman'),\n",
              " ('advocate', 'actress'),\n",
              " ('alderman', 'businesswoman'),\n",
              " ('ambassador', 'actress'),\n",
              " ('analyst', 'businesswoman'),\n",
              " ('anthropologist', 'actress'),\n",
              " ('archaeologist', 'actress'),\n",
              " ('archbishop', 'businesswoman'),\n",
              " ('architect', 'businesswoman'),\n",
              " ('artist', 'actress'),\n",
              " ('artiste', 'actress'),\n",
              " ('assassin', 'businesswoman'),\n",
              " ('astronaut', 'businesswoman'),\n",
              " ('astronomer', 'actress'),\n",
              " ('athlete', 'businesswoman'),\n",
              " ('attorney', 'paralegal'),\n",
              " ('author', 'businesswoman'),\n",
              " ('ballerina', 'actress'),\n",
              " ('banker', 'businesswoman'),\n",
              " ('barber', 'hairdresser'),\n",
              " ('barrister', 'actress'),\n",
              " ('bartender', 'waitress'),\n",
              " ('biologist', 'businesswoman'),\n",
              " ('bishop', 'parishioner'),\n",
              " ('bodyguard', 'actress'),\n",
              " ('bookkeeper', 'homemaker'),\n",
              " ('broadcaster', 'actress'),\n",
              " ('broker', 'consultant'),\n",
              " ('bureaucrat', 'businesswoman'),\n",
              " ('businessman', 'businesswoman'),\n",
              " ('businesswoman', 'actress'),\n",
              " ('butcher', 'businesswoman'),\n",
              " ('butler', 'housekeeper'),\n",
              " ('cabbie', 'bartender'),\n",
              " ('cameraman', 'actress'),\n",
              " ('campaigner', 'actress'),\n",
              " ('captain', 'businesswoman'),\n",
              " ('cardiologist', 'actress'),\n",
              " ('caretaker', 'businesswoman'),\n",
              " ('carpenter', 'homemaker'),\n",
              " ('cartoonist', 'actress'),\n",
              " ('cellist', 'ballerina'),\n",
              " ('chancellor', 'businesswoman'),\n",
              " ('chaplain', 'homemaker'),\n",
              " ('character', 'actress'),\n",
              " ('chemist', 'businesswoman'),\n",
              " ('choreographer', 'actress'),\n",
              " ('cinematographer', 'actress'),\n",
              " ('citizen', 'businesswoman'),\n",
              " ('cleric', 'archbishop'),\n",
              " ('collector', 'businesswoman'),\n",
              " ('colonel', 'businesswoman'),\n",
              " ('columnist', 'actress'),\n",
              " ('comedian', 'actress'),\n",
              " ('commander', 'businesswoman'),\n",
              " ('commentator', 'actress'),\n",
              " ('commissioner', 'businesswoman'),\n",
              " ('composer', 'actress'),\n",
              " ('conductor', 'businesswoman'),\n",
              " ('confesses', 'businesswoman'),\n",
              " ('congressman', 'businesswoman'),\n",
              " ('constable', 'businesswoman'),\n",
              " ('consultant', 'actress'),\n",
              " ('correspondent', 'actress'),\n",
              " ('councilman', 'businesswoman'),\n",
              " ('councilor', 'businesswoman'),\n",
              " ('counselor', 'businesswoman'),\n",
              " ('critic', 'choreographer'),\n",
              " ('crooner', 'businesswoman'),\n",
              " ('crusader', 'businesswoman'),\n",
              " ('curator', 'businesswoman'),\n",
              " ('custodian', 'businesswoman'),\n",
              " ('dancer', 'actress'),\n",
              " ('dentist', 'receptionist'),\n",
              " ('deputy', 'businesswoman'),\n",
              " ('dermatologist', 'actress'),\n",
              " ('detective', 'actress'),\n",
              " ('diplomat', 'actress'),\n",
              " ('director', 'actress'),\n",
              " ('doctor', 'nurse'),\n",
              " ('drummer', 'vocalist'),\n",
              " ('economist', 'businesswoman'),\n",
              " ('editor', 'businesswoman'),\n",
              " ('educator', 'actress'),\n",
              " ('electrician', 'businesswoman'),\n",
              " ('employee', 'businesswoman'),\n",
              " ('entertainer', 'actress'),\n",
              " ('entrepreneur', 'businesswoman'),\n",
              " ('environmentalist', 'actress'),\n",
              " ('epidemiologist', 'actress'),\n",
              " ('evangelist', 'businesswoman'),\n",
              " ('farmer', 'businesswoman'),\n",
              " ('filmmaker', 'actress'),\n",
              " ('financier', 'businesswoman'),\n",
              " ('firefighter', 'businesswoman'),\n",
              " ('fireman', 'homemaker'),\n",
              " ('fisherman', 'businesswoman'),\n",
              " ('footballer', 'actress'),\n",
              " ('foreman', 'businesswoman'),\n",
              " ('gangster', 'businesswoman'),\n",
              " ('gardener', 'homemaker'),\n",
              " ('geologist', 'businesswoman'),\n",
              " ('goalkeeper', 'businesswoman'),\n",
              " ('guitarist', 'actress'),\n",
              " ('hairdresser', 'actress'),\n",
              " ('handyman', 'homemaker'),\n",
              " ('headmaster', 'businesswoman'),\n",
              " ('historian', 'actress'),\n",
              " ('hitman', 'assassin'),\n",
              " ('homemaker', 'actress'),\n",
              " ('housekeeper', 'actress'),\n",
              " ('housewife', 'actress'),\n",
              " ('illustrator', 'actress'),\n",
              " ('industrialist', 'businesswoman'),\n",
              " ('infielder', 'businesswoman'),\n",
              " ('inspector', 'businesswoman'),\n",
              " ('instructor', 'actress'),\n",
              " ('inventor', 'businesswoman'),\n",
              " ('investigator', 'actress'),\n",
              " ('janitor', 'homemaker'),\n",
              " ('jeweler', 'businesswoman'),\n",
              " ('journalist', 'actress'),\n",
              " ('judge', 'prosecutor'),\n",
              " ('jurist', 'barrister'),\n",
              " ('laborer', 'homemaker'),\n",
              " ('landlord', 'businesswoman'),\n",
              " ('lawmaker', 'businesswoman'),\n",
              " ('lawyer', 'paralegal'),\n",
              " ('lecturer', 'businesswoman'),\n",
              " ('legislator', 'businesswoman'),\n",
              " ('librarian', 'actress'),\n",
              " ('lieutenant', 'businesswoman'),\n",
              " ('lifeguard', 'businesswoman'),\n",
              " ('lyricist', 'actress'),\n",
              " ('maestro', 'businesswoman'),\n",
              " ('magician', 'businesswoman'),\n",
              " ('magistrate', 'businesswoman'),\n",
              " ('manager', 'businesswoman'),\n",
              " ('marksman', 'businesswoman'),\n",
              " ('marshal', 'businesswoman'),\n",
              " ('mathematician', 'businesswoman'),\n",
              " ('mechanic', 'businesswoman'),\n",
              " ('mediator', 'businesswoman'),\n",
              " ('midfielder', 'businesswoman'),\n",
              " ('minister', 'businesswoman'),\n",
              " ('missionary', 'businesswoman'),\n",
              " ('mobster', 'socialite'),\n",
              " ('musician', 'actress'),\n",
              " ('narrator', 'actress'),\n",
              " ('naturalist', 'businesswoman'),\n",
              " ('negotiator', 'businesswoman'),\n",
              " ('neurologist', 'businesswoman'),\n",
              " ('neurosurgeon', 'businesswoman'),\n",
              " ('novelist', 'actress'),\n",
              " ('observer', 'businesswoman'),\n",
              " ('officer', 'businesswoman'),\n",
              " ('organist', 'homemaker'),\n",
              " ('painter', 'businesswoman'),\n",
              " ('paralegal', 'homemaker'),\n",
              " ('parishioner', 'actress'),\n",
              " ('parliamentarian', 'businesswoman'),\n",
              " ('pastor', 'educator'),\n",
              " ('pathologist', 'actress'),\n",
              " ('pediatrician', 'actress'),\n",
              " ('performer', 'actress'),\n",
              " ('pharmacist', 'businesswoman'),\n",
              " ('philanthropist', 'businesswoman'),\n",
              " ('philosopher', 'businesswoman'),\n",
              " ('photographer', 'actress'),\n",
              " ('photojournalist', 'actress'),\n",
              " ('physician', 'actress'),\n",
              " ('physicist', 'actress'),\n",
              " ('pianist', 'actress'),\n",
              " ('planner', 'homemaker'),\n",
              " ('playwright', 'actress'),\n",
              " ('plumber', 'housewife'),\n",
              " ('policeman', 'businesswoman'),\n",
              " ('politician', 'businesswoman'),\n",
              " ('pollster', 'businesswoman'),\n",
              " ('preacher', 'businesswoman'),\n",
              " ('president', 'businesswoman'),\n",
              " ('priest', 'housekeeper'),\n",
              " ('principal', 'actress'),\n",
              " ('prisoner', 'businesswoman'),\n",
              " ('professor', 'actress'),\n",
              " ('programmer', 'actress'),\n",
              " ('promoter', 'businesswoman'),\n",
              " ('proprietor', 'businesswoman'),\n",
              " ('prosecutor', 'actress'),\n",
              " ('protagonist', 'actress'),\n",
              " ('protege', 'businesswoman'),\n",
              " ('protester', 'businesswoman'),\n",
              " ('provost', 'librarian'),\n",
              " ('psychiatrist', 'actress'),\n",
              " ('psychologist', 'actress'),\n",
              " ('publicist', 'actress'),\n",
              " ('pundit', 'columnist'),\n",
              " ('radiologist', 'actress'),\n",
              " ('ranger', 'naturalist'),\n",
              " ('realtor', 'businesswoman'),\n",
              " ('receptionist', 'actress'),\n",
              " ('researcher', 'actress'),\n",
              " ('restaurateur', 'businesswoman'),\n",
              " ('sailor', 'adventurer'),\n",
              " ('salesman', 'businesswoman'),\n",
              " ('saxophonist', 'actress'),\n",
              " ('scholar', 'businesswoman'),\n",
              " ('scientist', 'actress'),\n",
              " ('screenwriter', 'actress'),\n",
              " ('sculptor', 'actress'),\n",
              " ('secretary', 'actress'),\n",
              " ('senator', 'businesswoman'),\n",
              " ('sergeant', 'businesswoman'),\n",
              " ('servant', 'businesswoman'),\n",
              " ('serviceman', 'actress'),\n",
              " ('shopkeeper', 'businesswoman'),\n",
              " ('singer', 'actress'),\n",
              " ('skipper', 'businesswoman'),\n",
              " ('socialite', 'actress'),\n",
              " ('sociologist', 'actress'),\n",
              " ('soldier', 'businesswoman'),\n",
              " ('solicitor', 'paralegal'),\n",
              " ('soloist', 'ballerina'),\n",
              " ('sportsman', 'businesswoman'),\n",
              " ('sportswriter', 'actress'),\n",
              " ('statesman', 'businesswoman'),\n",
              " ('steward', 'businesswoman'),\n",
              " ('stockbroker', 'businesswoman'),\n",
              " ('strategist', 'businesswoman'),\n",
              " ('student', 'businesswoman'),\n",
              " ('stylist', 'businesswoman'),\n",
              " ('substitute', 'businesswoman'),\n",
              " ('superintendent', 'businesswoman'),\n",
              " ('surgeon', 'businesswoman'),\n",
              " ('surveyor', 'businesswoman'),\n",
              " ('teacher', 'businesswoman'),\n",
              " ('technician', 'actress'),\n",
              " ('teenager', 'actress'),\n",
              " ('therapist', 'actress'),\n",
              " ('trader', 'entrepreneur'),\n",
              " ('treasurer', 'businesswoman'),\n",
              " ('trooper', 'businesswoman'),\n",
              " ('trucker', 'homemaker'),\n",
              " ('trumpeter', 'businesswoman'),\n",
              " ('tycoon', 'industrialist'),\n",
              " ('understudy', 'actress'),\n",
              " ('valedictorian', 'actress'),\n",
              " ('violinist', 'actress'),\n",
              " ('vocalist', 'actress'),\n",
              " ('waiter', 'waitress'),\n",
              " ('waitress', 'actress'),\n",
              " ('warden', 'superintendent'),\n",
              " ('warrior', 'businesswoman'),\n",
              " ('welder', 'electrician'),\n",
              " ('worker', 'homemaker'),\n",
              " ('wrestler', 'businesswoman'),\n",
              " ('writer', 'actress')]"
            ]
          },
          "metadata": {},
          "execution_count": 19
        }
      ],
      "source": [
        "embedding.analogies(analogy_direction=direction2, tokens=titles)"
      ]
    }
  ],
  "metadata": {
    "colab": {
      "collapsed_sections": [
        "Y9n5hsocUEu6",
        "mbNFbWBIUKOb",
        "EX_7UbfKeLzH",
        "TKsJ7LfELybJ",
        "XgPGM1cvzIIo",
        "cjgbqFix9A6Z"
      ],
      "name": "assignment_3_machine_learning.ipynb",
      "provenance": []
    },
    "kernelspec": {
      "display_name": "Python 3",
      "name": "python3"
    },
    "language_info": {
      "name": "python"
    }
  },
  "nbformat": 4,
  "nbformat_minor": 0
}